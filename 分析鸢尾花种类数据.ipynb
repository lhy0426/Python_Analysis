{
 "cells": [
  {
   "cell_type": "markdown",
   "id": "22b7e068-a8e9-4eef-adcc-84ab57d51e9f",
   "metadata": {},
   "source": [
    "# 分析鸢尾花种类数据"
   ]
  },
  {
   "cell_type": "markdown",
   "id": "21b6f641-3539-4f03-9ccf-335ceb56c377",
   "metadata": {},
   "source": [
    "## 分析目标"
   ]
  },
  {
   "cell_type": "markdown",
   "id": "30ee3a63-140d-46c4-901e-e6a44e8990c3",
   "metadata": {},
   "source": [
    "此数据分析报告的目的是基于鸢尾花属性数据，分析三种鸢尾花萼片、花瓣长度和宽度平均值是否存在显著性差异，让我们可以最不同种类鸢尾花的属性特征进行推断。"
   ]
  },
  {
   "cell_type": "markdown",
   "id": "c1a4f797-8596-4529-809c-111f5ef82221",
   "metadata": {},
   "source": [
    "## 简介"
   ]
  },
  {
   "cell_type": "markdown",
   "id": "180875d0-507f-4c1f-b8de-55e9cd280690",
   "metadata": {},
   "source": [
    "原始数据'iris.csv'包括三种鸢尾花，Iris也称鸢尾花卉数据集，是一类多重变量分析的数据集。数据集包含150个数据集，分为3类，每类50个数据，每个数据包含4个属性：花萼长度、花萼宽度、花瓣长度、花瓣宽度。  \n",
    "'iris.csv'每列的含义为：  \n",
    "-Id：样本的ID  \n",
    "-Sepal_length：花萼长度（单位cm）  \n",
    "-Sepal_width：花萼宽度（单位cm）   \n",
    "-Petal_length：花瓣长度（单位cm）  \n",
    "-Petal_width：花瓣宽度（单位cm）   \n",
    "-Species：种类 "
   ]
  },
  {
   "cell_type": "markdown",
   "id": "0c675a44-f607-45ea-b4f2-816fc0241800",
   "metadata": {},
   "source": [
    "## 读取数据"
   ]
  },
  {
   "cell_type": "markdown",
   "id": "a484ce23-5a87-4920-b02f-ec217350f24b",
   "metadata": {},
   "source": [
    "导入数据分析所需的库，并通过Pandas的read_csv函数将原始数据文件iris.csv中的数据内容分析为DataFrame，并赋值给original_data。"
   ]
  },
  {
   "cell_type": "code",
   "execution_count": 1,
   "id": "f68d2ec2-ddee-49d4-863b-af7ed52a34d3",
   "metadata": {},
   "outputs": [],
   "source": [
    "import pandas as pd\n",
    "import matplotlib.pyplot as plt\n",
    "import seaborn as sns"
   ]
  },
  {
   "cell_type": "code",
   "execution_count": 2,
   "id": "7c19a13b-5422-47ab-b73c-c27fa45f03b3",
   "metadata": {},
   "outputs": [],
   "source": [
    "original_data = pd.read_csv(\"iris.csv\")"
   ]
  },
  {
   "cell_type": "code",
   "execution_count": 3,
   "id": "4db6178f-9a5c-44d4-a8f6-bc629d4a075e",
   "metadata": {},
   "outputs": [
    {
     "data": {
      "text/html": [
       "<div>\n",
       "<style scoped>\n",
       "    .dataframe tbody tr th:only-of-type {\n",
       "        vertical-align: middle;\n",
       "    }\n",
       "\n",
       "    .dataframe tbody tr th {\n",
       "        vertical-align: top;\n",
       "    }\n",
       "\n",
       "    .dataframe thead th {\n",
       "        text-align: right;\n",
       "    }\n",
       "</style>\n",
       "<table border=\"1\" class=\"dataframe\">\n",
       "  <thead>\n",
       "    <tr style=\"text-align: right;\">\n",
       "      <th></th>\n",
       "      <th>Id</th>\n",
       "      <th>Sepal_Length</th>\n",
       "      <th>Sepal_Width</th>\n",
       "      <th>Petal_Length</th>\n",
       "      <th>Petal_Width</th>\n",
       "      <th>Species</th>\n",
       "    </tr>\n",
       "  </thead>\n",
       "  <tbody>\n",
       "    <tr>\n",
       "      <th>0</th>\n",
       "      <td>1</td>\n",
       "      <td>5.1</td>\n",
       "      <td>3.5</td>\n",
       "      <td>1.4</td>\n",
       "      <td>0.2</td>\n",
       "      <td>setosa</td>\n",
       "    </tr>\n",
       "    <tr>\n",
       "      <th>1</th>\n",
       "      <td>2</td>\n",
       "      <td>4.9</td>\n",
       "      <td>3.0</td>\n",
       "      <td>1.4</td>\n",
       "      <td>0.2</td>\n",
       "      <td>setosa</td>\n",
       "    </tr>\n",
       "    <tr>\n",
       "      <th>2</th>\n",
       "      <td>3</td>\n",
       "      <td>4.7</td>\n",
       "      <td>3.2</td>\n",
       "      <td>1.3</td>\n",
       "      <td>0.2</td>\n",
       "      <td>setosa</td>\n",
       "    </tr>\n",
       "    <tr>\n",
       "      <th>3</th>\n",
       "      <td>4</td>\n",
       "      <td>4.6</td>\n",
       "      <td>3.1</td>\n",
       "      <td>1.5</td>\n",
       "      <td>0.2</td>\n",
       "      <td>setosa</td>\n",
       "    </tr>\n",
       "    <tr>\n",
       "      <th>4</th>\n",
       "      <td>5</td>\n",
       "      <td>5.0</td>\n",
       "      <td>3.6</td>\n",
       "      <td>1.4</td>\n",
       "      <td>0.2</td>\n",
       "      <td>setosa</td>\n",
       "    </tr>\n",
       "  </tbody>\n",
       "</table>\n",
       "</div>"
      ],
      "text/plain": [
       "   Id  Sepal_Length  Sepal_Width  Petal_Length  Petal_Width Species\n",
       "0   1           5.1          3.5           1.4          0.2  setosa\n",
       "1   2           4.9          3.0           1.4          0.2  setosa\n",
       "2   3           4.7          3.2           1.3          0.2  setosa\n",
       "3   4           4.6          3.1           1.5          0.2  setosa\n",
       "4   5           5.0          3.6           1.4          0.2  setosa"
      ]
     },
     "execution_count": 3,
     "metadata": {},
     "output_type": "execute_result"
    }
   ],
   "source": [
    "original_data.head()"
   ]
  },
  {
   "cell_type": "markdown",
   "id": "0166175b-3c01-4a53-b163-3bbe79c76905",
   "metadata": {},
   "source": [
    "## 评估和清理数据"
   ]
  },
  {
   "cell_type": "markdown",
   "id": "56555955-5a59-4980-a858-585056ce8b24",
   "metadata": {},
   "source": [
    "在这一部分中，我们将对建立的original_data DataFrame所包含的数据进行评估和清理。"
   ]
  },
  {
   "cell_type": "markdown",
   "id": "5012a067-95da-4a91-88e6-a86a00c170e3",
   "metadata": {},
   "source": [
    "主要从两个方面进行：结构和内容，即整齐度和干净度。"
   ]
  },
  {
   "cell_type": "markdown",
   "id": "7875e776-7d2d-4490-b3fc-ed55e394ce54",
   "metadata": {},
   "source": [
    "数据的结构性问题指不符合“每个变量为一列，每个观察值为一行，每种类型的观察单位为一个表格”这三个标准；数据的内容性问题保罗存在丢失的数据、重复数据、无效数据等。"
   ]
  },
  {
   "cell_type": "markdown",
   "id": "3be83ba8-2ca7-4a69-86d5-e1b44b188285",
   "metadata": {},
   "source": [
    "为了区分开经过清理的数据和原始数据，我们创建新的clean_data，让它作为original_data复制出的副本。我们之后的清洗步骤都被运用在clean_data上。"
   ]
  },
  {
   "cell_type": "code",
   "execution_count": 4,
   "id": "a3ceedb5-b5df-4524-8ca5-f96ebbdc0092",
   "metadata": {},
   "outputs": [],
   "source": [
    "cleaned_data = original_data.copy()"
   ]
  },
  {
   "cell_type": "markdown",
   "id": "a370c9f6-18bd-48a2-b41b-c108bd5d895c",
   "metadata": {},
   "source": [
    "## 数据整齐度"
   ]
  },
  {
   "cell_type": "code",
   "execution_count": 5,
   "id": "b8f9e9b0-0268-43d9-8cc6-cff87f5881cf",
   "metadata": {},
   "outputs": [
    {
     "data": {
      "text/html": [
       "<div>\n",
       "<style scoped>\n",
       "    .dataframe tbody tr th:only-of-type {\n",
       "        vertical-align: middle;\n",
       "    }\n",
       "\n",
       "    .dataframe tbody tr th {\n",
       "        vertical-align: top;\n",
       "    }\n",
       "\n",
       "    .dataframe thead th {\n",
       "        text-align: right;\n",
       "    }\n",
       "</style>\n",
       "<table border=\"1\" class=\"dataframe\">\n",
       "  <thead>\n",
       "    <tr style=\"text-align: right;\">\n",
       "      <th></th>\n",
       "      <th>Id</th>\n",
       "      <th>Sepal_Length</th>\n",
       "      <th>Sepal_Width</th>\n",
       "      <th>Petal_Length</th>\n",
       "      <th>Petal_Width</th>\n",
       "      <th>Species</th>\n",
       "    </tr>\n",
       "  </thead>\n",
       "  <tbody>\n",
       "    <tr>\n",
       "      <th>0</th>\n",
       "      <td>1</td>\n",
       "      <td>5.1</td>\n",
       "      <td>3.5</td>\n",
       "      <td>1.4</td>\n",
       "      <td>0.2</td>\n",
       "      <td>setosa</td>\n",
       "    </tr>\n",
       "    <tr>\n",
       "      <th>1</th>\n",
       "      <td>2</td>\n",
       "      <td>4.9</td>\n",
       "      <td>3.0</td>\n",
       "      <td>1.4</td>\n",
       "      <td>0.2</td>\n",
       "      <td>setosa</td>\n",
       "    </tr>\n",
       "    <tr>\n",
       "      <th>2</th>\n",
       "      <td>3</td>\n",
       "      <td>4.7</td>\n",
       "      <td>3.2</td>\n",
       "      <td>1.3</td>\n",
       "      <td>0.2</td>\n",
       "      <td>setosa</td>\n",
       "    </tr>\n",
       "    <tr>\n",
       "      <th>3</th>\n",
       "      <td>4</td>\n",
       "      <td>4.6</td>\n",
       "      <td>3.1</td>\n",
       "      <td>1.5</td>\n",
       "      <td>0.2</td>\n",
       "      <td>setosa</td>\n",
       "    </tr>\n",
       "    <tr>\n",
       "      <th>4</th>\n",
       "      <td>5</td>\n",
       "      <td>5.0</td>\n",
       "      <td>3.6</td>\n",
       "      <td>1.4</td>\n",
       "      <td>0.2</td>\n",
       "      <td>setosa</td>\n",
       "    </tr>\n",
       "    <tr>\n",
       "      <th>5</th>\n",
       "      <td>6</td>\n",
       "      <td>5.4</td>\n",
       "      <td>3.9</td>\n",
       "      <td>1.7</td>\n",
       "      <td>0.4</td>\n",
       "      <td>setosa</td>\n",
       "    </tr>\n",
       "    <tr>\n",
       "      <th>6</th>\n",
       "      <td>7</td>\n",
       "      <td>4.6</td>\n",
       "      <td>3.4</td>\n",
       "      <td>1.4</td>\n",
       "      <td>0.3</td>\n",
       "      <td>setosa</td>\n",
       "    </tr>\n",
       "    <tr>\n",
       "      <th>7</th>\n",
       "      <td>8</td>\n",
       "      <td>5.0</td>\n",
       "      <td>3.4</td>\n",
       "      <td>1.5</td>\n",
       "      <td>0.2</td>\n",
       "      <td>setosa</td>\n",
       "    </tr>\n",
       "    <tr>\n",
       "      <th>8</th>\n",
       "      <td>9</td>\n",
       "      <td>4.4</td>\n",
       "      <td>2.9</td>\n",
       "      <td>1.4</td>\n",
       "      <td>0.2</td>\n",
       "      <td>setosa</td>\n",
       "    </tr>\n",
       "    <tr>\n",
       "      <th>9</th>\n",
       "      <td>10</td>\n",
       "      <td>4.9</td>\n",
       "      <td>3.1</td>\n",
       "      <td>1.5</td>\n",
       "      <td>0.1</td>\n",
       "      <td>setosa</td>\n",
       "    </tr>\n",
       "  </tbody>\n",
       "</table>\n",
       "</div>"
      ],
      "text/plain": [
       "   Id  Sepal_Length  Sepal_Width  Petal_Length  Petal_Width Species\n",
       "0   1           5.1          3.5           1.4          0.2  setosa\n",
       "1   2           4.9          3.0           1.4          0.2  setosa\n",
       "2   3           4.7          3.2           1.3          0.2  setosa\n",
       "3   4           4.6          3.1           1.5          0.2  setosa\n",
       "4   5           5.0          3.6           1.4          0.2  setosa\n",
       "5   6           5.4          3.9           1.7          0.4  setosa\n",
       "6   7           4.6          3.4           1.4          0.3  setosa\n",
       "7   8           5.0          3.4           1.5          0.2  setosa\n",
       "8   9           4.4          2.9           1.4          0.2  setosa\n",
       "9  10           4.9          3.1           1.5          0.1  setosa"
      ]
     },
     "execution_count": 5,
     "metadata": {},
     "output_type": "execute_result"
    }
   ],
   "source": [
    "cleaned_data.head(10)"
   ]
  },
  {
   "cell_type": "raw",
   "id": "6a58cf27-06f9-4095-927e-5d1a2a243097",
   "metadata": {},
   "source": [
    "从头部的10行数据来看，数据符合“每个变量为一列，每个观察值为一行，每种类型的观察单位为一个表格”，因此不存在结构性问题。"
   ]
  },
  {
   "cell_type": "markdown",
   "id": "c81daa93-4b1d-4c01-9201-4bcdd5236ff3",
   "metadata": {},
   "source": [
    "## 数据干净度"
   ]
  },
  {
   "cell_type": "markdown",
   "id": "ae029a9a-51ce-422c-a38c-6b63ff646cfa",
   "metadata": {},
   "source": [
    "然后通过info，对数据内容进行大致了解。"
   ]
  },
  {
   "cell_type": "code",
   "execution_count": 6,
   "id": "4b9a386e-f360-4a4a-b7cb-0177f3f81ab8",
   "metadata": {},
   "outputs": [
    {
     "name": "stdout",
     "output_type": "stream",
     "text": [
      "<class 'pandas.core.frame.DataFrame'>\n",
      "RangeIndex: 150 entries, 0 to 149\n",
      "Data columns (total 6 columns):\n",
      " #   Column        Non-Null Count  Dtype  \n",
      "---  ------        --------------  -----  \n",
      " 0   Id            150 non-null    int64  \n",
      " 1   Sepal_Length  150 non-null    float64\n",
      " 2   Sepal_Width   150 non-null    float64\n",
      " 3   Petal_Length  150 non-null    float64\n",
      " 4   Petal_Width   150 non-null    float64\n",
      " 5   Species       150 non-null    object \n",
      "dtypes: float64(4), int64(1), object(1)\n",
      "memory usage: 7.2+ KB\n"
     ]
    }
   ],
   "source": [
    "cleaned_data.info()"
   ]
  },
  {
   "cell_type": "markdown",
   "id": "00adc869-cc7b-4871-87b7-88db646740e7",
   "metadata": {},
   "source": [
    "从输出结果来看，cleaned_data共有150条观察值，不存在缺失值。"
   ]
  },
  {
   "cell_type": "markdown",
   "id": "8c922557-d716-4972-a225-db7899baba0b",
   "metadata": {},
   "source": [
    "Id表示样本ID，数据类型不为数字，应为字符串，所以需要进行格式转换。"
   ]
  },
  {
   "cell_type": "code",
   "execution_count": 7,
   "id": "a416672f-7e2e-4276-b134-dbff7bbceb19",
   "metadata": {},
   "outputs": [
    {
     "data": {
      "text/plain": [
       "0        1\n",
       "1        2\n",
       "2        3\n",
       "3        4\n",
       "4        5\n",
       "      ... \n",
       "145    146\n",
       "146    147\n",
       "147    148\n",
       "148    149\n",
       "149    150\n",
       "Name: Id, Length: 150, dtype: object"
      ]
     },
     "execution_count": 7,
     "metadata": {},
     "output_type": "execute_result"
    }
   ],
   "source": [
    "cleaned_data[\"Id\"] = cleaned_data[\"Id\"].astype(\"str\")\n",
    "cleaned_data[\"Id\"]"
   ]
  },
  {
   "cell_type": "markdown",
   "id": "8c5bfd02-70ff-4d65-96a3-310a7969248a",
   "metadata": {},
   "source": [
    "## 处理缺失值"
   ]
  },
  {
   "cell_type": "markdown",
   "id": "1081c9b1-39ca-491b-b720-c2aeb491291d",
   "metadata": {},
   "source": [
    "从info方法的输出结果来看，cleaned_data中的Id是样本的唯一标识，不应该存在重复，因此查看是否存在重复值。"
   ]
  },
  {
   "cell_type": "markdown",
   "id": "221c4646-a124-4e0f-9345-691e073868e8",
   "metadata": {},
   "source": [
    "## 处理重复数据"
   ]
  },
  {
   "cell_type": "markdown",
   "id": "5bc91ddf-70ab-4be9-9a04-6c8bd6556c57",
   "metadata": {},
   "source": [
    "根据数据变量的含义及内容来看，cleaned_data中的Id是样本的唯一标识，不应该存在重复，因此查看是否存在重复值。"
   ]
  },
  {
   "cell_type": "code",
   "execution_count": 8,
   "id": "2e2b5128-aac5-465e-9b51-20ddb8b98e08",
   "metadata": {},
   "outputs": [
    {
     "data": {
      "text/plain": [
       "np.int64(0)"
      ]
     },
     "execution_count": 8,
     "metadata": {},
     "output_type": "execute_result"
    }
   ],
   "source": [
    "cleaned_data[\"Id\"].duplicated().sum()"
   ]
  },
  {
   "cell_type": "markdown",
   "id": "5d1235cb-dbd1-4fe7-9bcb-f4489b6e70a8",
   "metadata": {},
   "source": [
    "输出结果为零，说明不存在重复值。"
   ]
  },
  {
   "cell_type": "markdown",
   "id": "8adb9328-be96-4207-86a8-20e39b6fbcc0",
   "metadata": {},
   "source": [
    "## 处理不一致数据"
   ]
  },
  {
   "cell_type": "markdown",
   "id": "d41ca973-bda8-40c2-b83d-1c87a32a847f",
   "metadata": {},
   "source": [
    "不一致数据可能存在于Species中，我们要查看是否存在多个不同的值指代同一鸢尾花种类的情况。"
   ]
  },
  {
   "cell_type": "code",
   "execution_count": 9,
   "id": "c68356c1-b7b1-4fe5-8952-c256bea25b1c",
   "metadata": {},
   "outputs": [
    {
     "data": {
      "text/plain": [
       "Species\n",
       "setosa        50\n",
       "versicolor    50\n",
       "virginica     50\n",
       "Name: count, dtype: int64"
      ]
     },
     "execution_count": 9,
     "metadata": {},
     "output_type": "execute_result"
    }
   ],
   "source": [
    "cleaned_data[\"Species\"].value_counts()"
   ]
  },
  {
   "cell_type": "markdown",
   "id": "e05d3f55-50a0-4de8-bd46-b06cbe2cfafb",
   "metadata": {},
   "source": [
    "从以上输出结果来看，Species有三种可能的值，setosa、versicolor、virginica，不存在不一致数据。"
   ]
  },
  {
   "cell_type": "markdown",
   "id": "6b75d99e-4a3d-4450-8f61-641e840c1a97",
   "metadata": {},
   "source": [
    "我们可以把这列的类型转换为Category，好处是比较字符串类型更节约内存空间，也表明说值的类型有限。"
   ]
  },
  {
   "cell_type": "code",
   "execution_count": 10,
   "id": "e14cb604-a35b-482f-a461-314aad5ec701",
   "metadata": {},
   "outputs": [
    {
     "data": {
      "text/plain": [
       "0         setosa\n",
       "1         setosa\n",
       "2         setosa\n",
       "3         setosa\n",
       "4         setosa\n",
       "         ...    \n",
       "145    virginica\n",
       "146    virginica\n",
       "147    virginica\n",
       "148    virginica\n",
       "149    virginica\n",
       "Name: Species, Length: 150, dtype: category\n",
       "Categories (3, object): ['setosa', 'versicolor', 'virginica']"
      ]
     },
     "execution_count": 10,
     "metadata": {},
     "output_type": "execute_result"
    }
   ],
   "source": [
    "cleaned_data[\"Species\"] = cleaned_data[\"Species\"].astype(\"category\")\n",
    "cleaned_data[\"Species\"]"
   ]
  },
  {
   "cell_type": "markdown",
   "id": "b9f9f33c-cc2f-44ca-bc9e-6f806fcc2693",
   "metadata": {},
   "source": [
    "## 处理无效或错误数据"
   ]
  },
  {
   "cell_type": "markdown",
   "id": "ea1e2b95-e561-4796-8052-442edb4773d7",
   "metadata": {},
   "source": [
    "可以通过DataFrame的describe方法，对数值统计信息进行快速了解。"
   ]
  },
  {
   "cell_type": "code",
   "execution_count": 11,
   "id": "a6bb4ed1-164f-4628-a797-2032e3bcd256",
   "metadata": {},
   "outputs": [
    {
     "data": {
      "text/html": [
       "<div>\n",
       "<style scoped>\n",
       "    .dataframe tbody tr th:only-of-type {\n",
       "        vertical-align: middle;\n",
       "    }\n",
       "\n",
       "    .dataframe tbody tr th {\n",
       "        vertical-align: top;\n",
       "    }\n",
       "\n",
       "    .dataframe thead th {\n",
       "        text-align: right;\n",
       "    }\n",
       "</style>\n",
       "<table border=\"1\" class=\"dataframe\">\n",
       "  <thead>\n",
       "    <tr style=\"text-align: right;\">\n",
       "      <th></th>\n",
       "      <th>Sepal_Length</th>\n",
       "      <th>Sepal_Width</th>\n",
       "      <th>Petal_Length</th>\n",
       "      <th>Petal_Width</th>\n",
       "    </tr>\n",
       "  </thead>\n",
       "  <tbody>\n",
       "    <tr>\n",
       "      <th>count</th>\n",
       "      <td>150.000000</td>\n",
       "      <td>150.000000</td>\n",
       "      <td>150.000000</td>\n",
       "      <td>150.000000</td>\n",
       "    </tr>\n",
       "    <tr>\n",
       "      <th>mean</th>\n",
       "      <td>5.843333</td>\n",
       "      <td>3.057333</td>\n",
       "      <td>3.758000</td>\n",
       "      <td>1.199333</td>\n",
       "    </tr>\n",
       "    <tr>\n",
       "      <th>std</th>\n",
       "      <td>0.828066</td>\n",
       "      <td>0.435866</td>\n",
       "      <td>1.765298</td>\n",
       "      <td>0.762238</td>\n",
       "    </tr>\n",
       "    <tr>\n",
       "      <th>min</th>\n",
       "      <td>4.300000</td>\n",
       "      <td>2.000000</td>\n",
       "      <td>1.000000</td>\n",
       "      <td>0.100000</td>\n",
       "    </tr>\n",
       "    <tr>\n",
       "      <th>25%</th>\n",
       "      <td>5.100000</td>\n",
       "      <td>2.800000</td>\n",
       "      <td>1.600000</td>\n",
       "      <td>0.300000</td>\n",
       "    </tr>\n",
       "    <tr>\n",
       "      <th>50%</th>\n",
       "      <td>5.800000</td>\n",
       "      <td>3.000000</td>\n",
       "      <td>4.350000</td>\n",
       "      <td>1.300000</td>\n",
       "    </tr>\n",
       "    <tr>\n",
       "      <th>75%</th>\n",
       "      <td>6.400000</td>\n",
       "      <td>3.300000</td>\n",
       "      <td>5.100000</td>\n",
       "      <td>1.800000</td>\n",
       "    </tr>\n",
       "    <tr>\n",
       "      <th>max</th>\n",
       "      <td>7.900000</td>\n",
       "      <td>4.400000</td>\n",
       "      <td>6.900000</td>\n",
       "      <td>2.500000</td>\n",
       "    </tr>\n",
       "  </tbody>\n",
       "</table>\n",
       "</div>"
      ],
      "text/plain": [
       "       Sepal_Length  Sepal_Width  Petal_Length  Petal_Width\n",
       "count    150.000000   150.000000    150.000000   150.000000\n",
       "mean       5.843333     3.057333      3.758000     1.199333\n",
       "std        0.828066     0.435866      1.765298     0.762238\n",
       "min        4.300000     2.000000      1.000000     0.100000\n",
       "25%        5.100000     2.800000      1.600000     0.300000\n",
       "50%        5.800000     3.000000      4.350000     1.300000\n",
       "75%        6.400000     3.300000      5.100000     1.800000\n",
       "max        7.900000     4.400000      6.900000     2.500000"
      ]
     },
     "execution_count": 11,
     "metadata": {},
     "output_type": "execute_result"
    }
   ],
   "source": [
    "cleaned_data.describe()"
   ]
  },
  {
   "cell_type": "markdown",
   "id": "5219b6e4-dfe0-470a-991b-aea7b5468808",
   "metadata": {},
   "source": [
    "从上述统计信息来看，cleaned_data中不存在脱离现实意义的数值。"
   ]
  },
  {
   "cell_type": "markdown",
   "id": "4cbc57d1-beb7-46bf-8fbd-feff4f0f9eba",
   "metadata": {},
   "source": [
    "## 整理数据"
   ]
  },
  {
   "cell_type": "markdown",
   "id": "7d6cee53-667e-4b04-8ce8-178bd98eb300",
   "metadata": {},
   "source": [
    "对数据的整理，与分析方向紧密相关。此次数据分析目标是，基于鸢尾花的属性数据，分析三种鸢尾花萼片、花瓣的长度和宽度的平均值，是否存在显著性差异。"
   ]
  },
  {
   "cell_type": "markdown",
   "id": "454fc668-c96b-4e9f-a0d8-8da067394ed3",
   "metadata": {},
   "source": [
    "那么我们可以对数据基于Species列，先把各个鸢尾花种类样本数据筛选出来。"
   ]
  },
  {
   "cell_type": "code",
   "execution_count": 12,
   "id": "3a339abe-d583-4c41-8d8e-a1bc4fb55524",
   "metadata": {},
   "outputs": [
    {
     "data": {
      "text/html": [
       "<div>\n",
       "<style scoped>\n",
       "    .dataframe tbody tr th:only-of-type {\n",
       "        vertical-align: middle;\n",
       "    }\n",
       "\n",
       "    .dataframe tbody tr th {\n",
       "        vertical-align: top;\n",
       "    }\n",
       "\n",
       "    .dataframe thead th {\n",
       "        text-align: right;\n",
       "    }\n",
       "</style>\n",
       "<table border=\"1\" class=\"dataframe\">\n",
       "  <thead>\n",
       "    <tr style=\"text-align: right;\">\n",
       "      <th></th>\n",
       "      <th>Id</th>\n",
       "      <th>Sepal_Length</th>\n",
       "      <th>Sepal_Width</th>\n",
       "      <th>Petal_Length</th>\n",
       "      <th>Petal_Width</th>\n",
       "      <th>Species</th>\n",
       "    </tr>\n",
       "  </thead>\n",
       "  <tbody>\n",
       "    <tr>\n",
       "      <th>0</th>\n",
       "      <td>1</td>\n",
       "      <td>5.1</td>\n",
       "      <td>3.5</td>\n",
       "      <td>1.4</td>\n",
       "      <td>0.2</td>\n",
       "      <td>setosa</td>\n",
       "    </tr>\n",
       "    <tr>\n",
       "      <th>1</th>\n",
       "      <td>2</td>\n",
       "      <td>4.9</td>\n",
       "      <td>3.0</td>\n",
       "      <td>1.4</td>\n",
       "      <td>0.2</td>\n",
       "      <td>setosa</td>\n",
       "    </tr>\n",
       "    <tr>\n",
       "      <th>2</th>\n",
       "      <td>3</td>\n",
       "      <td>4.7</td>\n",
       "      <td>3.2</td>\n",
       "      <td>1.3</td>\n",
       "      <td>0.2</td>\n",
       "      <td>setosa</td>\n",
       "    </tr>\n",
       "    <tr>\n",
       "      <th>3</th>\n",
       "      <td>4</td>\n",
       "      <td>4.6</td>\n",
       "      <td>3.1</td>\n",
       "      <td>1.5</td>\n",
       "      <td>0.2</td>\n",
       "      <td>setosa</td>\n",
       "    </tr>\n",
       "    <tr>\n",
       "      <th>4</th>\n",
       "      <td>5</td>\n",
       "      <td>5.0</td>\n",
       "      <td>3.6</td>\n",
       "      <td>1.4</td>\n",
       "      <td>0.2</td>\n",
       "      <td>setosa</td>\n",
       "    </tr>\n",
       "  </tbody>\n",
       "</table>\n",
       "</div>"
      ],
      "text/plain": [
       "  Id  Sepal_Length  Sepal_Width  Petal_Length  Petal_Width Species\n",
       "0  1           5.1          3.5           1.4          0.2  setosa\n",
       "1  2           4.9          3.0           1.4          0.2  setosa\n",
       "2  3           4.7          3.2           1.3          0.2  setosa\n",
       "3  4           4.6          3.1           1.5          0.2  setosa\n",
       "4  5           5.0          3.6           1.4          0.2  setosa"
      ]
     },
     "execution_count": 12,
     "metadata": {},
     "output_type": "execute_result"
    }
   ],
   "source": [
    "iris_setosa = cleaned_data.query('Species == \"setosa\"')\n",
    "iris_setosa.head()"
   ]
  },
  {
   "cell_type": "code",
   "execution_count": 13,
   "id": "eefdc403-8a0c-4fcb-a8a0-fdd54c5276ac",
   "metadata": {},
   "outputs": [
    {
     "data": {
      "text/plain": [
       "50"
      ]
     },
     "execution_count": 13,
     "metadata": {},
     "output_type": "execute_result"
    }
   ],
   "source": [
    "len(iris_setosa)"
   ]
  },
  {
   "cell_type": "code",
   "execution_count": 14,
   "id": "fc52a7bb-42a2-481d-9b07-c1cf7121f721",
   "metadata": {},
   "outputs": [
    {
     "data": {
      "text/html": [
       "<div>\n",
       "<style scoped>\n",
       "    .dataframe tbody tr th:only-of-type {\n",
       "        vertical-align: middle;\n",
       "    }\n",
       "\n",
       "    .dataframe tbody tr th {\n",
       "        vertical-align: top;\n",
       "    }\n",
       "\n",
       "    .dataframe thead th {\n",
       "        text-align: right;\n",
       "    }\n",
       "</style>\n",
       "<table border=\"1\" class=\"dataframe\">\n",
       "  <thead>\n",
       "    <tr style=\"text-align: right;\">\n",
       "      <th></th>\n",
       "      <th>Id</th>\n",
       "      <th>Sepal_Length</th>\n",
       "      <th>Sepal_Width</th>\n",
       "      <th>Petal_Length</th>\n",
       "      <th>Petal_Width</th>\n",
       "      <th>Species</th>\n",
       "    </tr>\n",
       "  </thead>\n",
       "  <tbody>\n",
       "    <tr>\n",
       "      <th>100</th>\n",
       "      <td>101</td>\n",
       "      <td>6.3</td>\n",
       "      <td>3.3</td>\n",
       "      <td>6.0</td>\n",
       "      <td>2.5</td>\n",
       "      <td>virginica</td>\n",
       "    </tr>\n",
       "    <tr>\n",
       "      <th>101</th>\n",
       "      <td>102</td>\n",
       "      <td>5.8</td>\n",
       "      <td>2.7</td>\n",
       "      <td>5.1</td>\n",
       "      <td>1.9</td>\n",
       "      <td>virginica</td>\n",
       "    </tr>\n",
       "    <tr>\n",
       "      <th>102</th>\n",
       "      <td>103</td>\n",
       "      <td>7.1</td>\n",
       "      <td>3.0</td>\n",
       "      <td>5.9</td>\n",
       "      <td>2.1</td>\n",
       "      <td>virginica</td>\n",
       "    </tr>\n",
       "    <tr>\n",
       "      <th>103</th>\n",
       "      <td>104</td>\n",
       "      <td>6.3</td>\n",
       "      <td>2.9</td>\n",
       "      <td>5.6</td>\n",
       "      <td>1.8</td>\n",
       "      <td>virginica</td>\n",
       "    </tr>\n",
       "    <tr>\n",
       "      <th>104</th>\n",
       "      <td>105</td>\n",
       "      <td>6.5</td>\n",
       "      <td>3.0</td>\n",
       "      <td>5.8</td>\n",
       "      <td>2.2</td>\n",
       "      <td>virginica</td>\n",
       "    </tr>\n",
       "  </tbody>\n",
       "</table>\n",
       "</div>"
      ],
      "text/plain": [
       "      Id  Sepal_Length  Sepal_Width  Petal_Length  Petal_Width    Species\n",
       "100  101           6.3          3.3           6.0          2.5  virginica\n",
       "101  102           5.8          2.7           5.1          1.9  virginica\n",
       "102  103           7.1          3.0           5.9          2.1  virginica\n",
       "103  104           6.3          2.9           5.6          1.8  virginica\n",
       "104  105           6.5          3.0           5.8          2.2  virginica"
      ]
     },
     "execution_count": 14,
     "metadata": {},
     "output_type": "execute_result"
    }
   ],
   "source": [
    "iris_virginica = cleaned_data.query('Species == \"virginica\"')\n",
    "iris_virginica.head()"
   ]
  },
  {
   "cell_type": "code",
   "execution_count": 15,
   "id": "2433ee5c-d1e4-4eaf-b1e0-e2e1a194ac5f",
   "metadata": {},
   "outputs": [
    {
     "data": {
      "text/plain": [
       "50"
      ]
     },
     "execution_count": 15,
     "metadata": {},
     "output_type": "execute_result"
    }
   ],
   "source": [
    "len(iris_virginica)"
   ]
  },
  {
   "cell_type": "code",
   "execution_count": 16,
   "id": "a98ab875-76b3-47e5-a931-303238ddc7b9",
   "metadata": {},
   "outputs": [
    {
     "data": {
      "text/html": [
       "<div>\n",
       "<style scoped>\n",
       "    .dataframe tbody tr th:only-of-type {\n",
       "        vertical-align: middle;\n",
       "    }\n",
       "\n",
       "    .dataframe tbody tr th {\n",
       "        vertical-align: top;\n",
       "    }\n",
       "\n",
       "    .dataframe thead th {\n",
       "        text-align: right;\n",
       "    }\n",
       "</style>\n",
       "<table border=\"1\" class=\"dataframe\">\n",
       "  <thead>\n",
       "    <tr style=\"text-align: right;\">\n",
       "      <th></th>\n",
       "      <th>Id</th>\n",
       "      <th>Sepal_Length</th>\n",
       "      <th>Sepal_Width</th>\n",
       "      <th>Petal_Length</th>\n",
       "      <th>Petal_Width</th>\n",
       "      <th>Species</th>\n",
       "    </tr>\n",
       "  </thead>\n",
       "  <tbody>\n",
       "    <tr>\n",
       "      <th>50</th>\n",
       "      <td>51</td>\n",
       "      <td>7.0</td>\n",
       "      <td>3.2</td>\n",
       "      <td>4.7</td>\n",
       "      <td>1.4</td>\n",
       "      <td>versicolor</td>\n",
       "    </tr>\n",
       "    <tr>\n",
       "      <th>51</th>\n",
       "      <td>52</td>\n",
       "      <td>6.4</td>\n",
       "      <td>3.2</td>\n",
       "      <td>4.5</td>\n",
       "      <td>1.5</td>\n",
       "      <td>versicolor</td>\n",
       "    </tr>\n",
       "    <tr>\n",
       "      <th>52</th>\n",
       "      <td>53</td>\n",
       "      <td>6.9</td>\n",
       "      <td>3.1</td>\n",
       "      <td>4.9</td>\n",
       "      <td>1.5</td>\n",
       "      <td>versicolor</td>\n",
       "    </tr>\n",
       "    <tr>\n",
       "      <th>53</th>\n",
       "      <td>54</td>\n",
       "      <td>5.5</td>\n",
       "      <td>2.3</td>\n",
       "      <td>4.0</td>\n",
       "      <td>1.3</td>\n",
       "      <td>versicolor</td>\n",
       "    </tr>\n",
       "    <tr>\n",
       "      <th>54</th>\n",
       "      <td>55</td>\n",
       "      <td>6.5</td>\n",
       "      <td>2.8</td>\n",
       "      <td>4.6</td>\n",
       "      <td>1.5</td>\n",
       "      <td>versicolor</td>\n",
       "    </tr>\n",
       "  </tbody>\n",
       "</table>\n",
       "</div>"
      ],
      "text/plain": [
       "    Id  Sepal_Length  Sepal_Width  Petal_Length  Petal_Width     Species\n",
       "50  51           7.0          3.2           4.7          1.4  versicolor\n",
       "51  52           6.4          3.2           4.5          1.5  versicolor\n",
       "52  53           6.9          3.1           4.9          1.5  versicolor\n",
       "53  54           5.5          2.3           4.0          1.3  versicolor\n",
       "54  55           6.5          2.8           4.6          1.5  versicolor"
      ]
     },
     "execution_count": 16,
     "metadata": {},
     "output_type": "execute_result"
    }
   ],
   "source": [
    "iris_versicolor = cleaned_data.query('Species == \"versicolor\"')\n",
    "iris_versicolor.head()"
   ]
  },
  {
   "cell_type": "code",
   "execution_count": 17,
   "id": "72a36103-3086-4db8-906a-2e8d48002274",
   "metadata": {},
   "outputs": [
    {
     "data": {
      "text/plain": [
       "50"
      ]
     },
     "execution_count": 17,
     "metadata": {},
     "output_type": "execute_result"
    }
   ],
   "source": [
    "len(iris_versicolor)"
   ]
  },
  {
   "cell_type": "markdown",
   "id": "25bf32fd-5cb0-4f13-b66f-3d2f3c81ff18",
   "metadata": {},
   "source": [
    "## 探索数据"
   ]
  },
  {
   "cell_type": "markdown",
   "id": "4772fa22-156a-4c75-95f2-a8fe304e729e",
   "metadata": {},
   "source": [
    "在着手推断统计学分析之前，我们可以先借助数据可视化，探索setosa、versicolor和virginica这三种鸢尾花的变量特点。"
   ]
  },
  {
   "cell_type": "markdown",
   "id": "5452cf81-a325-4d1c-9d22-8d583454baf9",
   "metadata": {},
   "source": [
    "可视化探索可以帮助我们对数据有一个更直观的理解，比如了解数据的分布、发现变量之间的关系等，从而为后续的进一步分析提供方向。"
   ]
  },
  {
   "cell_type": "markdown",
   "id": "bcd751a5-d88b-4721-861c-768888d08a49",
   "metadata": {},
   "source": [
    "针对数据，我们可以直接绘制成对图，利用其中的密度图查看不同变量的分布，以及使用散点图了解变量之间的关系。"
   ]
  },
  {
   "cell_type": "markdown",
   "id": "ec3190a9-b9d0-4943-92d2-5273031db907",
   "metadata": {},
   "source": [
    "并且，由于此次分析的目的是了解不同鸢尾花的属性特征是否存在差异，我们可以利用颜色对图表上不同种类的样本进行分析。"
   ]
  },
  {
   "cell_type": "code",
   "execution_count": 18,
   "id": "5efdc625-97b5-4186-afd8-e4d398ca5801",
   "metadata": {},
   "outputs": [
    {
     "data": {
      "image/png": "[encoded data removed]",
      "text/plain": [
       "<Figure size 1117.75x1000 with 20 Axes>"
      ]
     },
     "metadata": {},
     "output_type": "display_data"
    }
   ],
   "source": [
    "sns.pairplot(cleaned_data,hue=\"Species\")\n",
    "plt.show()"
   ]
  },
  {
   "cell_type": "markdown",
   "id": "c94b6d7b-f0fa-480a-91d1-80a862241f1c",
   "metadata": {},
   "source": [
    "从以上可以看出，setasa和versicalor,virginica样本的花瓣长度以及花瓣宽度的分布存在明显数值上的不同，已经可以猜测假设检验的结果是，setosa与versicolor，Virginica两种鸢尾花的花瓣长度与宽度有统计显著性差异。versicolor\n",
    "，Virginica在分布上存在重叠，暂时无法仅从图表下结论，需要进行假设检验。三种鸢尾花的萼片长度和宽度在分布上存在重叠，暂时无法通过图表下结论，同样需要进行假设检验，来推断总体的萼片长度和宽度之间是否有差异。"
   ]
  },
  {
   "cell_type": "markdown",
   "id": "0c8570e3-4cd0-4e01-8142-8f60a1e1f912",
   "metadata": {},
   "source": [
    "## 分析数据"
   ]
  },
  {
   "cell_type": "markdown",
   "id": "368299aa-b07d-41c4-84da-54195b4c5203",
   "metadata": {},
   "source": [
    "我们将利用假设检验，依次检验setasa，versicalor和virginica这三种鸢尾花在萼片、花瓣的长度和宽度的平均值方面，是否存在统计显著性差异。"
   ]
  },
  {
   "cell_type": "code",
   "execution_count": 19,
   "id": "11cc486b-0a09-461b-89dc-6cdc6c186612",
   "metadata": {},
   "outputs": [],
   "source": [
    "from scipy.stats import ttest_ind"
   ]
  },
  {
   "cell_type": "markdown",
   "id": "89152180-d5b9-4de5-8ff7-88ab12b906c8",
   "metadata": {},
   "source": [
    "### 分析萼片长度"
   ]
  },
  {
   "cell_type": "markdown",
   "id": "8e925456-f2ca-4b44-8450-be4058bb19c5",
   "metadata": {},
   "source": [
    "setosa,versicolor和virginica萼片长度分布如下："
   ]
  },
  {
   "cell_type": "code",
   "execution_count": 20,
   "id": "5e143b38-369c-4ae7-be04-11e5008e082c",
   "metadata": {},
   "outputs": [
    {
     "data": {
      "image/png": "[encoded data removed]",
      "text/plain": [
       "<Figure size 640x480 with 1 Axes>"
      ]
     },
     "metadata": {},
     "output_type": "display_data"
    }
   ],
   "source": [
    "sns.histplot(iris_setosa['Sepal_Length'],binwidth=0.1)\n",
    "sns.histplot(iris_versicolor['Sepal_Length'],binwidth=0.1)\n",
    "sns.histplot(iris_virginica['Sepal_Length'],binwidth=0.1)\n",
    "plt.show()"
   ]
  },
  {
   "cell_type": "markdown",
   "id": "367b526c-016b-43cc-924d-347e70a47f23",
   "metadata": {},
   "source": [
    "### 建立假设"
   ]
  },
  {
   "cell_type": "markdown",
   "id": "0775bb61-4d46-488e-933d-685e331cae19",
   "metadata": {},
   "source": [
    "$H_0$:setosa和versicolor萼片长度的平均值不存在显著区别。  \n",
    "$H_1$:setosa和versicolor萼片长度的平均值存在显著区别。"
   ]
  },
  {
   "cell_type": "markdown",
   "id": "4f4be7e0-df62-4082-b083-b5b0940c1bee",
   "metadata": {},
   "source": [
    "### 确定检验是单尾还是双尾"
   ]
  },
  {
   "cell_type": "markdown",
   "id": "fdd4bde1-4318-4e22-bb52-23c26ac42a12",
   "metadata": {},
   "source": [
    "由于我们只检验平均值是否存在差异，不在乎哪个品种的萼片更长，所以是双尾检验。"
   ]
  },
  {
   "cell_type": "markdown",
   "id": "dc232a0e-fdf2-41eb-a9ac-cb9efbbcda48",
   "metadata": {},
   "source": [
    "### 确定显著水平"
   ]
  },
  {
   "cell_type": "markdown",
   "id": "82b4acfe-d5ea-4eef-8557-720cf2165c06",
   "metadata": {},
   "source": [
    "选择0.05作为显著水平。"
   ]
  },
  {
   "cell_type": "markdown",
   "id": "b6fbdcfe-9661-4cc7-ad72-70cdde5cfd27",
   "metadata": {},
   "source": [
    "### 计算t值和p值"
   ]
  },
  {
   "cell_type": "code",
   "execution_count": 21,
   "id": "4aac33f4-3f1a-45dc-8218-2387b422bd95",
   "metadata": {},
   "outputs": [],
   "source": [
    "t_stat,p_value = ttest_ind(iris_setosa['Sepal_Length'],iris_versicolor['Sepal_Length'])"
   ]
  },
  {
   "cell_type": "code",
   "execution_count": 22,
   "id": "24fea11b-2efd-490f-b526-3660cef68e31",
   "metadata": {},
   "outputs": [
    {
     "name": "stdout",
     "output_type": "stream",
     "text": [
      "t值：-10.52098626754911\n",
      "p值：8.985235037487079e-18\n"
     ]
    }
   ],
   "source": [
    "print(f\"t值：{t_stat}\")\n",
    "print(f\"p值：{p_value}\")"
   ]
  },
  {
   "cell_type": "markdown",
   "id": "dcf782e2-d3af-4ee3-85f7-ebff21a848d3",
   "metadata": {},
   "source": [
    "### 结论  \n",
    "由于p值小于显著水平0.05，我们因此拒绝原假设，说明setosa和versicolor萼片长度的平均值存在显著区别。"
   ]
  },
  {
   "cell_type": "markdown",
   "id": "923b37f6-cb2d-4a27-917e-7ef44aa1883d",
   "metadata": {},
   "source": [
    "### 建立假设"
   ]
  },
  {
   "cell_type": "markdown",
   "id": "160daf70-260a-44ab-8e08-27ddc4d70701",
   "metadata": {},
   "source": [
    "$H_0$:setosa和virginica萼片长度的平均值不存在显著区别。  \n",
    "$H_1$:setosa和virginica萼片长度的平均值存在显著区别。"
   ]
  },
  {
   "cell_type": "markdown",
   "id": "ef45d70d-3b75-492d-a72e-73b4863e2f14",
   "metadata": {},
   "source": [
    "### 确定检验是单尾还是双尾"
   ]
  },
  {
   "cell_type": "markdown",
   "id": "245466ad-1387-4053-acef-1391cc723c97",
   "metadata": {},
   "source": [
    "由于我们只检验平均值是否存在差异，不在乎哪个品种的萼片更长，所以是双尾检验。"
   ]
  },
  {
   "cell_type": "markdown",
   "id": "6337f199-1bf1-451e-a04c-b068feba5146",
   "metadata": {},
   "source": [
    "### 确定显著水平"
   ]
  },
  {
   "cell_type": "markdown",
   "id": "c800e98e-bc36-4a18-983c-46cbdda9641c",
   "metadata": {},
   "source": [
    "选择0.05作为显著水平。"
   ]
  },
  {
   "cell_type": "markdown",
   "id": "d80e27b9-3ed4-47f5-9822-7f4b525398b8",
   "metadata": {},
   "source": [
    "### 计算t值和p值"
   ]
  },
  {
   "cell_type": "code",
   "execution_count": 23,
   "id": "66f58cfd-5940-43fc-967d-be81ea45d725",
   "metadata": {},
   "outputs": [],
   "source": [
    "t_stat,p_value = ttest_ind(iris_setosa['Sepal_Length'],iris_virginica['Sepal_Length'])"
   ]
  },
  {
   "cell_type": "code",
   "execution_count": 24,
   "id": "8a1feee7-5470-4372-bab5-50d2b7535646",
   "metadata": {},
   "outputs": [
    {
     "name": "stdout",
     "output_type": "stream",
     "text": [
      "t值：-15.386195820079404\n",
      "p值：6.892546060674059e-28\n"
     ]
    }
   ],
   "source": [
    "print(f\"t值：{t_stat}\")\n",
    "print(f\"p值：{p_value}\")"
   ]
  },
  {
   "cell_type": "markdown",
   "id": "4fe887d5-9096-43c6-afe1-fc58853f4d3a",
   "metadata": {},
   "source": [
    "### 结论\n",
    "由于p值小于显著水平0.05，我们因此拒绝原假设，说明setosa和virginica萼片长度的平均值存在显著区别。"
   ]
  },
  {
   "cell_type": "markdown",
   "id": "11b5200b-1d69-4143-a169-7133bdba05f2",
   "metadata": {},
   "source": [
    "### 建立假设"
   ]
  },
  {
   "cell_type": "markdown",
   "id": "dd1fa7cd-520b-4412-97f7-63c442a4b774",
   "metadata": {},
   "source": [
    "$H_0$:virginica和versicolor萼片长度的平均值不存在显著区别。  \n",
    "$H_1$:virginica和versicolor萼片长度的平均值存在显著区别。"
   ]
  },
  {
   "cell_type": "markdown",
   "id": "f8481bce-9e5a-4f96-8fc9-a851b40f7845",
   "metadata": {},
   "source": [
    "### 确定检验是单尾还是双尾"
   ]
  },
  {
   "cell_type": "markdown",
   "id": "664219ff-afef-4cea-9526-63cfa6d612a8",
   "metadata": {},
   "source": [
    "由于我们只检验平均值是否存在差异，不在乎哪个品种的萼片更长，所以是双尾检验。"
   ]
  },
  {
   "cell_type": "markdown",
   "id": "8adf7242-6515-4efc-9137-942dfef2bb3c",
   "metadata": {},
   "source": [
    "### 确定显著水平"
   ]
  },
  {
   "cell_type": "markdown",
   "id": "aa66abc8-1ffc-4f03-9e93-29cd41fe4039",
   "metadata": {},
   "source": [
    "选择0.05作为显著水平。"
   ]
  },
  {
   "cell_type": "markdown",
   "id": "4984d486-179b-4f27-9135-54b40d5b6e16",
   "metadata": {},
   "source": [
    "### 计算t值和p值"
   ]
  },
  {
   "cell_type": "code",
   "execution_count": 25,
   "id": "c8717c2d-b900-413a-a353-759878334ebb",
   "metadata": {},
   "outputs": [],
   "source": [
    "t_stat,p_value = ttest_ind(iris_virginica['Sepal_Length'],iris_versicolor['Sepal_Length'])"
   ]
  },
  {
   "cell_type": "code",
   "execution_count": 26,
   "id": "20206238-b383-45a7-9be2-901eb379f4e2",
   "metadata": {},
   "outputs": [
    {
     "name": "stdout",
     "output_type": "stream",
     "text": [
      "t值：5.629165259719801\n",
      "p值：1.7248563024547942e-07\n"
     ]
    }
   ],
   "source": [
    "print(f\"t值：{t_stat}\")\n",
    "print(f\"p值：{p_value}\")"
   ]
  },
  {
   "cell_type": "markdown",
   "id": "489c7ac2-554e-4d2f-8aea-dd049aa46876",
   "metadata": {},
   "source": [
    "### 结论\n",
    "由于p值小于显著水平0.05，我们因此拒绝原假设，说明setosa和virginica萼片长度的平均值存在显著区别。"
   ]
  },
  {
   "cell_type": "markdown",
   "id": "3be5736e-64b9-4f31-a1c5-43a2c90c4b89",
   "metadata": {},
   "source": [
    "## 分析萼片宽度"
   ]
  },
  {
   "cell_type": "markdown",
   "id": "6bb21bb4-89ee-4031-8b72-fe1b40435970",
   "metadata": {},
   "source": [
    "setosa,versicolor和virginica萼片宽度分布如下："
   ]
  },
  {
   "cell_type": "code",
   "execution_count": 27,
   "id": "f6bcc976-b8ac-4628-8921-a53bdd9662c7",
   "metadata": {},
   "outputs": [
    {
     "data": {
      "image/png": "[encoded data removed]",
      "text/plain": [
       "<Figure size 640x480 with 1 Axes>"
      ]
     },
     "metadata": {},
     "output_type": "display_data"
    }
   ],
   "source": [
    "sns.histplot(iris_setosa['Sepal_Width'],binwidth=0.1)\n",
    "sns.histplot(iris_versicolor['Sepal_Width'],binwidth=0.1)\n",
    "sns.histplot(iris_virginica['Sepal_Width'],binwidth=0.1)\n",
    "plt.show()"
   ]
  },
  {
   "cell_type": "markdown",
   "id": "78f811c2-333c-4561-8951-4cad16fe7148",
   "metadata": {},
   "source": [
    "### 建立假设"
   ]
  },
  {
   "cell_type": "markdown",
   "id": "5a1cdb75-bcc2-4602-8915-a4b3a33f3e9e",
   "metadata": {},
   "source": [
    "$H_0$:setosa和versicolor萼片宽度的平均值不存在显著区别。  \n",
    "$H_1$:setosa和versicolor萼片宽度的平均值存在显著区别。"
   ]
  },
  {
   "cell_type": "markdown",
   "id": "4e645f97-1109-4bef-9f59-1f2b949cd5a3",
   "metadata": {},
   "source": [
    "### 确定检验是单尾还是双尾"
   ]
  },
  {
   "cell_type": "markdown",
   "id": "212e4c27-e8fc-48b8-b233-6895bb7d6d63",
   "metadata": {},
   "source": [
    "由于我们只检验平均值是否存在差异，不在乎哪个品种的萼片更宽，所以是双尾检验。"
   ]
  },
  {
   "cell_type": "markdown",
   "id": "8b6ab031-a3d4-48c1-bc1f-6f82dafcfce1",
   "metadata": {},
   "source": [
    "### 确定显著水平"
   ]
  },
  {
   "cell_type": "markdown",
   "id": "198da342-abe2-46af-83d1-a3789a7b5265",
   "metadata": {},
   "source": [
    "选择0.05作为显著水平。"
   ]
  },
  {
   "cell_type": "markdown",
   "id": "3c44ac6e-192a-4936-ae8e-11b8c71ebe7b",
   "metadata": {},
   "source": [
    "### 计算t值和p值"
   ]
  },
  {
   "cell_type": "code",
   "execution_count": 28,
   "id": "c7a8bde3-d4ad-4f04-ba81-29ba92729226",
   "metadata": {},
   "outputs": [],
   "source": [
    "t_stat,p_value = ttest_ind(iris_setosa['Sepal_Width'],iris_versicolor['Sepal_Width'])"
   ]
  },
  {
   "cell_type": "code",
   "execution_count": 29,
   "id": "27e9c34a-a56c-42db-957f-6ce2c7ec0511",
   "metadata": {},
   "outputs": [
    {
     "name": "stdout",
     "output_type": "stream",
     "text": [
      "t值：9.454975848128596\n",
      "p值：1.8452599454769322e-15\n"
     ]
    }
   ],
   "source": [
    "print(f\"t值：{t_stat}\")\n",
    "print(f\"p值：{p_value}\")"
   ]
  },
  {
   "cell_type": "markdown",
   "id": "0c22f1d2-9155-4707-adca-388321978a4f",
   "metadata": {},
   "source": [
    "### 结论\n",
    "由于p值小于显著水平0.05，我们因此拒绝原假设，说明setosa和versicolor萼片宽度的平均值存在显著区别。"
   ]
  },
  {
   "cell_type": "markdown",
   "id": "2418c9d8-37bc-459f-9a8a-7ae5c959a960",
   "metadata": {},
   "source": [
    "### 建立假设"
   ]
  },
  {
   "cell_type": "markdown",
   "id": "e30ae0b1-23c9-4fcf-a7e5-22f2b52eac9c",
   "metadata": {},
   "source": [
    "$H_0$:setosa和virginica萼片宽度的平均值不存在显著区别。  \n",
    "$H_1$:setosa和virginica萼片宽度的平均值存在显著区别。"
   ]
  },
  {
   "cell_type": "markdown",
   "id": "4c171b11-d132-4c3e-8ec6-fe0bb3be1b10",
   "metadata": {},
   "source": [
    "### 确定检验是单尾还是双尾"
   ]
  },
  {
   "cell_type": "markdown",
   "id": "4d5e0dfc-d363-4d41-9fe0-409ddc3c4127",
   "metadata": {},
   "source": [
    "由于我们只检验平均值是否存在差异，不在乎哪个品种的萼片更宽，所以是双尾检验。"
   ]
  },
  {
   "cell_type": "markdown",
   "id": "2928a77b-ce53-4766-999c-d8074597cb9b",
   "metadata": {},
   "source": [
    "### 确定显著水平"
   ]
  },
  {
   "cell_type": "markdown",
   "id": "36bf9c4a-5fcb-4b28-86d3-1d71cfdce419",
   "metadata": {},
   "source": [
    "选择0.05作为显著水平。"
   ]
  },
  {
   "cell_type": "markdown",
   "id": "48e28e5a-347e-4c18-ac42-565cbad71e33",
   "metadata": {},
   "source": [
    "### 计算t值和p值"
   ]
  },
  {
   "cell_type": "code",
   "execution_count": 30,
   "id": "6d06ac08-43a0-4b4f-85b2-43913340ec9c",
   "metadata": {},
   "outputs": [],
   "source": [
    "t_stat,p_value = ttest_ind(iris_setosa['Sepal_Width'],iris_virginica['Sepal_Width'])"
   ]
  },
  {
   "cell_type": "code",
   "execution_count": 31,
   "id": "b617543d-4740-4799-88c5-547eecd1a20b",
   "metadata": {},
   "outputs": [
    {
     "name": "stdout",
     "output_type": "stream",
     "text": [
      "t值：6.45034908963073\n",
      "p值：4.2463553818449584e-09\n"
     ]
    }
   ],
   "source": [
    "print(f\"t值：{t_stat}\")\n",
    "print(f\"p值：{p_value}\")"
   ]
  },
  {
   "cell_type": "markdown",
   "id": "ad05b008-c094-4f23-8c6b-99b66008fe7b",
   "metadata": {},
   "source": [
    "### 结论\n",
    "由于p值小于显著水平0.05，我们因此拒绝原假设，说明setosa和virginica萼片宽度的平均值存在显著区别。"
   ]
  },
  {
   "cell_type": "markdown",
   "id": "ee3b3e6c-20f4-4b15-a284-70d11c9db555",
   "metadata": {},
   "source": [
    "### 建立假设"
   ]
  },
  {
   "cell_type": "markdown",
   "id": "7153ef0c-5901-4469-9973-1b4719aeec72",
   "metadata": {},
   "source": [
    "$H_0$:virginica和versicolor萼片宽度的平均值不存在显著区别。  \n",
    "$H_1$:virginica和versicolor萼片宽度的平均值存在显著区别。"
   ]
  },
  {
   "cell_type": "markdown",
   "id": "a464fad5-0a43-4af9-a850-41fce79c2bfe",
   "metadata": {},
   "source": [
    "### 确定检验是单尾还是双尾"
   ]
  },
  {
   "cell_type": "markdown",
   "id": "6203a69e-4f00-4d54-ade3-765297dd4d35",
   "metadata": {},
   "source": [
    "由于我们只检验平均值是否存在差异，不在乎哪个品种的萼片更宽，所以是双尾检验。"
   ]
  },
  {
   "cell_type": "markdown",
   "id": "a4b3fb5a-d88f-4d8d-b197-98dee736e153",
   "metadata": {},
   "source": [
    "### 确定显著水平"
   ]
  },
  {
   "cell_type": "markdown",
   "id": "ca4a489c-ebb9-4110-9e14-53b0e419fd9a",
   "metadata": {},
   "source": [
    "选择0.05作为显著水平。"
   ]
  },
  {
   "cell_type": "markdown",
   "id": "d0bbd647-9f66-44c4-a3be-05648798c0cb",
   "metadata": {},
   "source": [
    "### 计算t值和p值"
   ]
  },
  {
   "cell_type": "code",
   "execution_count": 32,
   "id": "d849ec56-d7c6-4882-a291-d86dc34741a5",
   "metadata": {},
   "outputs": [],
   "source": [
    "t_stat,p_value = ttest_ind(iris_virginica['Sepal_Width'],iris_versicolor['Sepal_Width'])"
   ]
  },
  {
   "cell_type": "code",
   "execution_count": 33,
   "id": "a7b136ee-f682-4ae2-8e12-42955ebc07ba",
   "metadata": {},
   "outputs": [
    {
     "name": "stdout",
     "output_type": "stream",
     "text": [
      "t值：3.2057607502218186\n",
      "p值：0.0018191004238894803\n"
     ]
    }
   ],
   "source": [
    "print(f\"t值：{t_stat}\")\n",
    "print(f\"p值：{p_value}\")"
   ]
  },
  {
   "cell_type": "markdown",
   "id": "5c0f62d1-8fdb-4fb4-baaf-97f6267f1827",
   "metadata": {},
   "source": [
    "### 结论\n",
    "由于p值小于显著水平0.05，我们因此拒绝原假设，说明setosa和versicolor萼片宽度的平均值存在显著区别。"
   ]
  },
  {
   "cell_type": "markdown",
   "id": "ab6e9358-a42a-44b3-806b-9e431a54fd50",
   "metadata": {},
   "source": [
    "### 分析花瓣长度"
   ]
  },
  {
   "cell_type": "markdown",
   "id": "e178e926-ff1a-43c9-b1cb-b8d1bfe551e6",
   "metadata": {},
   "source": [
    "setosa,versicolor和virginica花瓣长度分布如下："
   ]
  },
  {
   "cell_type": "code",
   "execution_count": 34,
   "id": "36c7991d-570c-4db0-af3e-bec04048cb14",
   "metadata": {},
   "outputs": [
    {
     "data": {
      "image/png": "[encoded data removed]",
      "text/plain": [
       "<Figure size 640x480 with 1 Axes>"
      ]
     },
     "metadata": {},
     "output_type": "display_data"
    }
   ],
   "source": [
    "sns.histplot(iris_setosa['Petal_Length'],binwidth=0.1)\n",
    "sns.histplot(iris_versicolor['Petal_Length'],binwidth=0.1)\n",
    "sns.histplot(iris_virginica['Petal_Length'],binwidth=0.1)\n",
    "plt.show()"
   ]
  },
  {
   "cell_type": "markdown",
   "id": "76498929-3744-4d97-860e-23d3c77faa17",
   "metadata": {},
   "source": [
    "### 建立假设"
   ]
  },
  {
   "cell_type": "markdown",
   "id": "ad332a89-2181-4725-9e9d-eab97e4d1e00",
   "metadata": {},
   "source": [
    "$H_0$:setosa和versicolor花瓣长度的平均值不存在显著区别。  \n",
    "$H_1$:setosa和versicolor花瓣长度的平均值存在显著区别。"
   ]
  },
  {
   "cell_type": "markdown",
   "id": "04a05af9-f9aa-4f7d-9bd8-72fead8f5b60",
   "metadata": {},
   "source": [
    "### 确定检验是单尾还是双尾"
   ]
  },
  {
   "cell_type": "markdown",
   "id": "7b5ce732-7a0c-4a63-b23e-9abeffa27c99",
   "metadata": {},
   "source": [
    "由于我们只检验平均值是否存在差异，不在乎哪个品种的花瓣更长，所以是双尾检验。"
   ]
  },
  {
   "cell_type": "markdown",
   "id": "5828967e-2da7-4dc4-8001-480db4ba360e",
   "metadata": {},
   "source": [
    "### 确定显著水平"
   ]
  },
  {
   "cell_type": "markdown",
   "id": "45670593-d10f-4a92-aba0-5e802cc28c00",
   "metadata": {},
   "source": [
    "选择0.05作为显著水平。"
   ]
  },
  {
   "cell_type": "markdown",
   "id": "66c891aa-8ebe-4b2d-815a-efc838704846",
   "metadata": {},
   "source": [
    "### 计算t值和p值"
   ]
  },
  {
   "cell_type": "code",
   "execution_count": 35,
   "id": "53699165-508e-4a30-aa88-a29de2168656",
   "metadata": {},
   "outputs": [],
   "source": [
    "t_stat,p_value = ttest_ind(iris_setosa['Petal_Length'],iris_versicolor['Petal_Length'])"
   ]
  },
  {
   "cell_type": "code",
   "execution_count": 36,
   "id": "af91b466-d0da-4bc4-992b-c226f7183cad",
   "metadata": {},
   "outputs": [
    {
     "name": "stdout",
     "output_type": "stream",
     "text": [
      "t值：-39.492719391538095\n",
      "p值：5.404910513441677e-62\n"
     ]
    }
   ],
   "source": [
    "print(f\"t值：{t_stat}\")\n",
    "print(f\"p值：{p_value}\")"
   ]
  },
  {
   "cell_type": "markdown",
   "id": "504fbbed-87e9-4a7d-ada4-dd77483c49ec",
   "metadata": {},
   "source": [
    "### 结论  \n",
    "由于p值小于显著水平0.05，我们因此拒绝原假设，说明setosa和versicolor花瓣长度的平均值存在显著区别。"
   ]
  },
  {
   "cell_type": "markdown",
   "id": "1f43d5b3-5757-4e91-854e-ca5b1e4cacbb",
   "metadata": {},
   "source": [
    "### 建立假设"
   ]
  },
  {
   "cell_type": "markdown",
   "id": "66d28e2d-7e2a-47c9-b378-739be05dac2c",
   "metadata": {},
   "source": [
    "$H_0$:setosa和virginica花瓣长度的平均值不存在显著区别。  \n",
    "$H_1$:setosa和virginica花瓣长度的平均值存在显著区别。"
   ]
  },
  {
   "cell_type": "markdown",
   "id": "73638b3e-fb6f-4202-a496-337aa77077d2",
   "metadata": {},
   "source": [
    "### 确定检验是单尾还是双尾"
   ]
  },
  {
   "cell_type": "markdown",
   "id": "07c1e071-7f12-4188-a164-9e7037c926bd",
   "metadata": {},
   "source": [
    "由于我们只检验平均值是否存在差异，不在乎哪个品种的花瓣更长，所以是双尾检验。"
   ]
  },
  {
   "cell_type": "markdown",
   "id": "a2ec1ae1-4cf5-4cad-9869-81e117b22992",
   "metadata": {},
   "source": [
    "### 确定显著水平"
   ]
  },
  {
   "cell_type": "markdown",
   "id": "5efc9253-20a4-4d70-9b13-9dc0df3e931e",
   "metadata": {},
   "source": [
    "选择0.05作为显著水平。"
   ]
  },
  {
   "cell_type": "markdown",
   "id": "791ad8a9-e803-4132-aba3-624be3b482e0",
   "metadata": {},
   "source": [
    "### 计算t值和p值"
   ]
  },
  {
   "cell_type": "code",
   "execution_count": 37,
   "id": "3d2dde7d-3185-4404-ac4e-f540810db471",
   "metadata": {},
   "outputs": [],
   "source": [
    "t_stat,p_value = ttest_ind(iris_setosa['Petal_Length'],iris_virginica['Petal_Length'])"
   ]
  },
  {
   "cell_type": "code",
   "execution_count": 38,
   "id": "8b873b45-fc0b-4607-82b2-013704fa9ce7",
   "metadata": {},
   "outputs": [
    {
     "name": "stdout",
     "output_type": "stream",
     "text": [
      "t值：-49.98618625709594\n",
      "p值：1.5048006992427275e-71\n"
     ]
    }
   ],
   "source": [
    "print(f\"t值：{t_stat}\")\n",
    "print(f\"p值：{p_value}\")"
   ]
  },
  {
   "cell_type": "markdown",
   "id": "dce8ef48-429f-4962-9139-08998baae751",
   "metadata": {},
   "source": [
    "### 结论\n",
    "由于p值小于显著水平0.05，我们因此拒绝原假设，说明setosa和virginica花瓣长度的平均值存在显著区别。"
   ]
  },
  {
   "cell_type": "markdown",
   "id": "5ab2ea26-3eb8-43e1-9cf6-8912fd0a1637",
   "metadata": {},
   "source": [
    "### 建立假设"
   ]
  },
  {
   "cell_type": "markdown",
   "id": "abb2adc3-33d7-4048-adcd-ed4a017b4e43",
   "metadata": {},
   "source": [
    "$H_0$:virginica和versicolor花瓣长度的平均值不存在显著区别。  \n",
    "$H_1$:virginica和versicolor花瓣长度的平均值存在显著区别。"
   ]
  },
  {
   "cell_type": "markdown",
   "id": "dd253d84-5bf5-4d7e-a0e2-22ed0a423643",
   "metadata": {},
   "source": [
    "### 确定检验是单尾还是双尾"
   ]
  },
  {
   "cell_type": "markdown",
   "id": "11071b30-bf6f-4956-ae34-7cc7c538cdc5",
   "metadata": {},
   "source": [
    "由于我们只检验平均值是否存在差异，不在乎哪个品种的花瓣更长，所以是双尾检验。"
   ]
  },
  {
   "cell_type": "markdown",
   "id": "6b1ed03f-14ae-4f39-a316-6bbf62257e5e",
   "metadata": {},
   "source": [
    "### 确定显著水平"
   ]
  },
  {
   "cell_type": "markdown",
   "id": "3da40c8a-de2f-41a9-8a42-4ab8c22aacb6",
   "metadata": {},
   "source": [
    "选择0.05作为显著水平。"
   ]
  },
  {
   "cell_type": "markdown",
   "id": "12899359-73c8-4585-b959-85c6c1e7547c",
   "metadata": {},
   "source": [
    "### 计算t值和p值"
   ]
  },
  {
   "cell_type": "code",
   "execution_count": 39,
   "id": "80b35722-b041-4f03-8806-d3aee548055b",
   "metadata": {},
   "outputs": [],
   "source": [
    "t_stat,p_value = ttest_ind(iris_virginica['Petal_Length'],iris_versicolor['Petal_Length'])"
   ]
  },
  {
   "cell_type": "code",
   "execution_count": 40,
   "id": "d9b74fea-7a9e-439f-8550-bfe70e288c5d",
   "metadata": {},
   "outputs": [
    {
     "name": "stdout",
     "output_type": "stream",
     "text": [
      "t值：12.603779441384985\n",
      "p值：3.1788195478061495e-22\n"
     ]
    }
   ],
   "source": [
    "print(f\"t值：{t_stat}\")\n",
    "print(f\"p值：{p_value}\")"
   ]
  },
  {
   "cell_type": "markdown",
   "id": "1dc0a195-94d3-41e5-8ec8-06b99bec7d17",
   "metadata": {},
   "source": [
    "### 结论\n",
    "由于p值小于显著水平0.05，我们因此拒绝原假设，说明virginica和versicolor花瓣长度的平均值存在显著区别。"
   ]
  },
  {
   "cell_type": "markdown",
   "id": "09bfac75-db24-4398-8cb9-bc3f65e86a00",
   "metadata": {},
   "source": [
    "## 分析花瓣宽度"
   ]
  },
  {
   "cell_type": "markdown",
   "id": "5eb304eb-6322-41ef-a81f-cf70b6572e98",
   "metadata": {},
   "source": [
    "setosa,versicolor和virginica花瓣宽度分布如下："
   ]
  },
  {
   "cell_type": "code",
   "execution_count": 41,
   "id": "20afbaad-5df1-4b95-9622-1158aa282d4e",
   "metadata": {},
   "outputs": [
    {
     "data": {
      "image/png": "[encoded data removed]",
      "text/plain": [
       "<Figure size 640x480 with 1 Axes>"
      ]
     },
     "metadata": {},
     "output_type": "display_data"
    }
   ],
   "source": [
    "sns.histplot(iris_setosa['Petal_Width'],binwidth=0.1)\n",
    "sns.histplot(iris_versicolor['Petal_Width'],binwidth=0.1)\n",
    "sns.histplot(iris_virginica['Petal_Width'],binwidth=0.1)\n",
    "plt.show()"
   ]
  },
  {
   "cell_type": "markdown",
   "id": "c7dedb4c-6a6a-41fb-b88c-d6d24d544a4a",
   "metadata": {},
   "source": [
    "### 建立假设"
   ]
  },
  {
   "cell_type": "markdown",
   "id": "bb88b3fd-207c-4fdb-85cc-615bdcf7f6ae",
   "metadata": {},
   "source": [
    "$H_0$:setosa和versicolor花瓣宽度的平均值不存在显著区别。  \n",
    "$H_1$:setosa和versicolor花瓣宽度的平均值存在显著区别。"
   ]
  },
  {
   "cell_type": "markdown",
   "id": "0a75db9a-ed99-45d2-b438-ab9d455dc2ba",
   "metadata": {},
   "source": [
    "### 确定检验是单尾还是双尾"
   ]
  },
  {
   "cell_type": "markdown",
   "id": "a98e9cd8-a806-4320-a37b-10523d2809e9",
   "metadata": {},
   "source": [
    "由于我们只检验平均值是否存在差异，不在乎哪个品种的花瓣更宽，所以是双尾检验。"
   ]
  },
  {
   "cell_type": "markdown",
   "id": "12f4f91d-9689-484c-bca3-d0fdeaddae59",
   "metadata": {},
   "source": [
    "### 确定显著水平"
   ]
  },
  {
   "cell_type": "markdown",
   "id": "b63b1dc5-c59d-47e7-a9fe-7f103f221f55",
   "metadata": {},
   "source": [
    "选择0.05作为显著水平。"
   ]
  },
  {
   "cell_type": "markdown",
   "id": "33bb772d-b91f-4705-b02f-58dccd562a2a",
   "metadata": {},
   "source": [
    "### 计算t值和p值"
   ]
  },
  {
   "cell_type": "code",
   "execution_count": 42,
   "id": "f29b16dc-a0ef-4290-80ff-2a6e90df2072",
   "metadata": {},
   "outputs": [],
   "source": [
    "t_stat,p_value = ttest_ind(iris_setosa['Petal_Width'],iris_versicolor['Petal_Width'])"
   ]
  },
  {
   "cell_type": "code",
   "execution_count": 43,
   "id": "3cdd70f7-fd14-4ffe-a915-1387793766c4",
   "metadata": {},
   "outputs": [
    {
     "name": "stdout",
     "output_type": "stream",
     "text": [
      "t值：-34.08034154357719\n",
      "p值：3.831095388248162e-56\n"
     ]
    }
   ],
   "source": [
    "print(f\"t值：{t_stat}\")\n",
    "print(f\"p值：{p_value}\")"
   ]
  },
  {
   "cell_type": "markdown",
   "id": "b4405b40-c8f6-48af-9aaf-e7dc899a0912",
   "metadata": {},
   "source": [
    "### 结论  \n",
    "由于p值小于显著水平0.05，我们因此拒绝原假设，说明setosa和versicolor花瓣宽度的平均值存在显著区别。"
   ]
  },
  {
   "cell_type": "markdown",
   "id": "04cdfe35-7490-452a-b38d-de012ca9a3a0",
   "metadata": {},
   "source": [
    "### 建立假设"
   ]
  },
  {
   "cell_type": "markdown",
   "id": "53f2de98-1d6e-4019-8bb2-bdf474cce930",
   "metadata": {},
   "source": [
    "$H_0$:setosa和virginica花瓣宽度的平均值不存在显著区别。  \n",
    "$H_1$:setosa和virginica花瓣宽度的平均值存在显著区别。"
   ]
  },
  {
   "cell_type": "markdown",
   "id": "39e6229f-f367-46d4-87d2-ff44982997b2",
   "metadata": {},
   "source": [
    "### 确定检验是单尾还是双尾"
   ]
  },
  {
   "cell_type": "markdown",
   "id": "8e1a9671-0a25-4ca5-ad3d-cc98b9db4532",
   "metadata": {},
   "source": [
    "由于我们只检验平均值是否存在差异，不在乎哪个品种的花瓣更宽，所以是双尾检验。"
   ]
  },
  {
   "cell_type": "markdown",
   "id": "1ad3ca94-e0b5-4d61-8d31-addf76e4a98a",
   "metadata": {},
   "source": [
    "### 确定显著水平"
   ]
  },
  {
   "cell_type": "markdown",
   "id": "30bc2bb7-88af-49d6-bb3b-7fba184da104",
   "metadata": {},
   "source": [
    "选择0.05作为显著水平。"
   ]
  },
  {
   "cell_type": "markdown",
   "id": "2816ff67-c827-4e9c-a8bd-2c0e2a1136dd",
   "metadata": {},
   "source": [
    "### 计算t值和p值"
   ]
  },
  {
   "cell_type": "code",
   "execution_count": 44,
   "id": "04db674c-4f2f-4eee-b4a4-d3826d103b3e",
   "metadata": {},
   "outputs": [],
   "source": [
    "t_stat,p_value = ttest_ind(iris_setosa['Petal_Width'],iris_virginica['Petal_Width'])"
   ]
  },
  {
   "cell_type": "code",
   "execution_count": 45,
   "id": "6831e715-dbc5-4365-87fb-abba0de05bfd",
   "metadata": {},
   "outputs": [
    {
     "name": "stdout",
     "output_type": "stream",
     "text": [
      "t值：-42.7857975196172\n",
      "p值：3.230374818431802e-65\n"
     ]
    }
   ],
   "source": [
    "print(f\"t值：{t_stat}\")\n",
    "print(f\"p值：{p_value}\")"
   ]
  },
  {
   "cell_type": "markdown",
   "id": "7c23770f-5dae-43f2-b863-219836a71df7",
   "metadata": {},
   "source": [
    "### 结论\n",
    "由于p值小于显著水平0.05，我们因此拒绝原假设，说明setosa和virginica花瓣宽度的平均值存在显著区别。"
   ]
  },
  {
   "cell_type": "markdown",
   "id": "f18081d5-e374-4d0c-88e7-c6dc3f1f0d23",
   "metadata": {},
   "source": [
    "### 建立假设"
   ]
  },
  {
   "cell_type": "markdown",
   "id": "745dfee7-e329-4222-9f89-87244cb7bd52",
   "metadata": {},
   "source": [
    "$H_0$:virginica和versicolor花瓣宽度的平均值不存在显著区别。  \n",
    "$H_1$:virginica和versicolor花瓣宽度的平均值存在显著区别。"
   ]
  },
  {
   "cell_type": "markdown",
   "id": "52a58e8c-74c5-4f07-a720-8472dac61a08",
   "metadata": {},
   "source": [
    "### 确定检验是单尾还是双尾"
   ]
  },
  {
   "cell_type": "markdown",
   "id": "e0e212eb-2ee6-4088-83af-17f6d2256493",
   "metadata": {},
   "source": [
    "由于我们只检验平均值是否存在差异，不在乎哪个品种的花瓣更宽，所以是双尾检验。"
   ]
  },
  {
   "cell_type": "markdown",
   "id": "590b8f6a-9a2e-48fe-92e5-81fcb770ffa9",
   "metadata": {},
   "source": [
    "### 确定显著水平"
   ]
  },
  {
   "cell_type": "markdown",
   "id": "b18490ab-9131-4aa4-9d4a-3c61d19bd153",
   "metadata": {},
   "source": [
    "选择0.05作为显著水平。"
   ]
  },
  {
   "cell_type": "markdown",
   "id": "3ea68ab7-8bad-4293-8eca-36cc186847b9",
   "metadata": {},
   "source": [
    "### 计算t值和p值"
   ]
  },
  {
   "cell_type": "code",
   "execution_count": 46,
   "id": "d6371585-a6d9-4204-b4a4-a0e6c24a2ea6",
   "metadata": {},
   "outputs": [],
   "source": [
    "t_stat,p_value = ttest_ind(iris_virginica['Petal_Width'],iris_versicolor['Petal_Width'])"
   ]
  },
  {
   "cell_type": "code",
   "execution_count": 47,
   "id": "42f7b799-9723-4e38-8e65-705e58661bf2",
   "metadata": {},
   "outputs": [
    {
     "name": "stdout",
     "output_type": "stream",
     "text": [
      "t值：14.625367047410148\n",
      "p值：2.2304090710248333e-26\n"
     ]
    }
   ],
   "source": [
    "print(f\"t值：{t_stat}\")\n",
    "print(f\"p值：{p_value}\")"
   ]
  },
  {
   "cell_type": "markdown",
   "id": "09c617e2-8818-4a12-b9d4-41d404209351",
   "metadata": {},
   "source": [
    "### 结论\n",
    "由于p值小于显著水平0.05，我们因此拒绝原假设，说明virginica和versicolor花瓣宽度的平均值存在显著区别。"
   ]
  },
  {
   "cell_type": "markdown",
   "id": "b16d6649-ec91-4bfa-83d6-165c526c25ab",
   "metadata": {},
   "source": [
    "# 总结  \n",
    "通过推论统计学的计算过程，我们发现setosa,versicolor和virginica鸢尾花萼片、花瓣的长度和宽度平均值，均存在具有统计显著性的差异。"
   ]
  }
 ],
 "metadata": {
  "kernelspec": {
   "display_name": "Python 3 (ipykernel)",
   "language": "python",
   "name": "python3"
  },
  "language_info": {
   "codemirror_mode": {
    "name": "ipython",
    "version": 3
   },
   "file_extension": ".py",
   "mimetype": "text/x-python",
   "name": "python",
   "nbconvert_exporter": "python",
   "pygments_lexer": "ipython3",
   "version": "3.12.3"
  }
 },
 "nbformat": 4,
 "nbformat_minor": 5
}
